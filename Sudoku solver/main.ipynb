{
 "cells": [
  {
   "cell_type": "markdown",
   "metadata": {},
   "source": [
    "# Sudoku solver using Graph theory\n",
    "\n",
    "to solve a classic 9x9 sudoku problem we need 81 vertex and each graph would be adjacent to another if it belongs to the same row, column and quadrant of another graph."
   ]
  }
 ],
 "metadata": {
  "language_info": {
   "name": "python"
  }
 },
 "nbformat": 4,
 "nbformat_minor": 2
}
