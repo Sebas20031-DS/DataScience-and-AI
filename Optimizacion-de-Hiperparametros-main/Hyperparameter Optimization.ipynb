{
  "cells": [
    {
      "cell_type": "markdown",
      "metadata": {
        "id": "0FWdChueUdBp"
      },
      "source": [
        "<a href=\"https://github.com/YOUR-USERNAME/YOUR-REPOSITORY\" target=\"_blank\" \n",
        "   style=\"display: inline-flex; align-items: center; background-color: #24292e; color: white; \n",
        "          padding: 10px 15px; border-radius: 6px; text-decoration: none; font-family: Arial, sans-serif; \n",
        "          font-size: 16px; font-weight: bold;\">\n",
        "    <img src=\"https://github.githubassets.com/images/modules/logos_page/GitHub-Mark.png\" \n",
        "         alt=\"GitHub Logo\" width=\"30\" style=\"margin-right: 10px;\">\n",
        "    Go to the Repository\n",
        "</a>\n"
      ]
    },
    {
      "cell_type": "markdown",
      "metadata": {
        "id": "9FvwPGh-UdBr"
      },
      "source": [
        "<table style=\"border: none; border-collapse: collapse; width: 100%; padding: 15px;\">\n",
        "    <tr>\n",
        "        <td style=\"vertical-align: middle; padding: 15px;\">\n",
        "            <p style=\"font-size: 24px; font-weight: bold; color: #0030A1; margin: 5px 0;\">\n",
        "                Hyperparameter Optimization\n",
        "            </p>\n",
        "            <p style=\"font-size: 18px; color: #0030A1; margin: 5px 0;\">\n",
        "                Data Science & AI\n",
        "            </p>\n",
        "            <p style=\"font-size: 16px; font-style: italic; color: #555; margin: 10px 0;\">\n",
        "                Sebastián Reyes • 2024\n",
        "            </p>\n",
        "        </td>\n",
        "    </tr>\n",
        "</table>\n"
      ]
    },
    {
      "cell_type": "markdown",
      "metadata": {
        "id": "Ydn48cLYUdBs"
      },
      "source": [
        "---\n",
        "## <font color='264CC7'> Introduction </font>\n",
        "\n",
        "Throughout this notebook, we will apply hyperparameter optimization to a model of your choice."
      ]
    },
    {
      "cell_type": "code",
      "execution_count": 1,
      "metadata": {
        "id": "uTnJFBhZUdBt"
      },
      "outputs": [],
      "source": [
        "# Libraries to be imported\n",
        "import kagglehub\n",
        "import pandas as pd\n",
        "import matplotlib.pyplot as plt\n",
        "import joblib  # To save the model\n",
        "\n",
        "from sklearn.preprocessing import StandardScaler\n",
        "from sklearn.model_selection import train_test_split, GridSearchCV, RandomizedSearchCV\n",
        "from sklearn.metrics import accuracy_score, confusion_matrix, classification_report\n",
        "from sklearn.neighbors import KNeighborsClassifier"
      ]
    },
    {
      "cell_type": "markdown",
      "metadata": {
        "id": "Nvzz4n5OUdBu"
      },
      "source": [
        "--- \n",
        "## <font color='264CC7'> Classification </font>\n",
        "\n",
        "### <font color='264CC7'> Data Preprocessing </font>\n"
      ]
    },
    {
      "cell_type": "code",
      "execution_count": 2,
      "metadata": {
        "colab": {
          "base_uri": "https://localhost:8080/",
          "height": 308
        },
        "id": "NsvB0kCvUdBv",
        "outputId": "dcdbeb38-e7fc-4a71-9408-cf437d983ea7"
      },
      "outputs": [
        {
          "name": "stdout",
          "output_type": "stream",
          "text": [
            "Downloading from https://www.kaggle.com/api/v1/datasets/download/imakash3011/customer-personality-analysis?dataset_version_number=1...\n"
          ]
        },
        {
          "name": "stderr",
          "output_type": "stream",
          "text": [
            "100%|██████████| 62.0k/62.0k [00:00<00:00, 815kB/s]"
          ]
        },
        {
          "name": "stdout",
          "output_type": "stream",
          "text": [
            "Extracting files...\n",
            "🔍 Initial Data Exploration:\n",
            "\n",
            "📊 First 5 Records:\n"
          ]
        },
        {
          "name": "stderr",
          "output_type": "stream",
          "text": [
            "\n"
          ]
        },
        {
          "data": {
            "application/vnd.microsoft.datawrangler.viewer.v0+json": {
              "columns": [
                {
                  "name": "index",
                  "rawType": "int64",
                  "type": "integer"
                },
                {
                  "name": "ID",
                  "rawType": "int64",
                  "type": "integer"
                },
                {
                  "name": "Year_Birth",
                  "rawType": "int64",
                  "type": "integer"
                },
                {
                  "name": "Education",
                  "rawType": "object",
                  "type": "string"
                },
                {
                  "name": "Marital_Status",
                  "rawType": "object",
                  "type": "string"
                },
                {
                  "name": "Income",
                  "rawType": "float64",
                  "type": "float"
                },
                {
                  "name": "Kidhome",
                  "rawType": "int64",
                  "type": "integer"
                },
                {
                  "name": "Teenhome",
                  "rawType": "int64",
                  "type": "integer"
                },
                {
                  "name": "Dt_Customer",
                  "rawType": "object",
                  "type": "string"
                },
                {
                  "name": "Recency",
                  "rawType": "int64",
                  "type": "integer"
                },
                {
                  "name": "MntWines",
                  "rawType": "int64",
                  "type": "integer"
                },
                {
                  "name": "MntFruits",
                  "rawType": "int64",
                  "type": "integer"
                },
                {
                  "name": "MntMeatProducts",
                  "rawType": "int64",
                  "type": "integer"
                },
                {
                  "name": "MntFishProducts",
                  "rawType": "int64",
                  "type": "integer"
                },
                {
                  "name": "MntSweetProducts",
                  "rawType": "int64",
                  "type": "integer"
                },
                {
                  "name": "MntGoldProds",
                  "rawType": "int64",
                  "type": "integer"
                },
                {
                  "name": "NumDealsPurchases",
                  "rawType": "int64",
                  "type": "integer"
                },
                {
                  "name": "NumWebPurchases",
                  "rawType": "int64",
                  "type": "integer"
                },
                {
                  "name": "NumCatalogPurchases",
                  "rawType": "int64",
                  "type": "integer"
                },
                {
                  "name": "NumStorePurchases",
                  "rawType": "int64",
                  "type": "integer"
                },
                {
                  "name": "NumWebVisitsMonth",
                  "rawType": "int64",
                  "type": "integer"
                },
                {
                  "name": "AcceptedCmp3",
                  "rawType": "int64",
                  "type": "integer"
                },
                {
                  "name": "AcceptedCmp4",
                  "rawType": "int64",
                  "type": "integer"
                },
                {
                  "name": "AcceptedCmp5",
                  "rawType": "int64",
                  "type": "integer"
                },
                {
                  "name": "AcceptedCmp1",
                  "rawType": "int64",
                  "type": "integer"
                },
                {
                  "name": "AcceptedCmp2",
                  "rawType": "int64",
                  "type": "integer"
                },
                {
                  "name": "Complain",
                  "rawType": "int64",
                  "type": "integer"
                },
                {
                  "name": "Z_CostContact",
                  "rawType": "int64",
                  "type": "integer"
                },
                {
                  "name": "Z_Revenue",
                  "rawType": "int64",
                  "type": "integer"
                },
                {
                  "name": "Response",
                  "rawType": "int64",
                  "type": "integer"
                }
              ],
              "conversionMethod": "pd.DataFrame",
              "ref": "d04e325d-4695-4ca5-9ad2-f90d25c360f8",
              "rows": [
                [
                  "0",
                  "5524",
                  "1957",
                  "Graduation",
                  "Single",
                  "58138.0",
                  "0",
                  "0",
                  "04-09-2012",
                  "58",
                  "635",
                  "88",
                  "546",
                  "172",
                  "88",
                  "88",
                  "3",
                  "8",
                  "10",
                  "4",
                  "7",
                  "0",
                  "0",
                  "0",
                  "0",
                  "0",
                  "0",
                  "3",
                  "11",
                  "1"
                ],
                [
                  "1",
                  "2174",
                  "1954",
                  "Graduation",
                  "Single",
                  "46344.0",
                  "1",
                  "1",
                  "08-03-2014",
                  "38",
                  "11",
                  "1",
                  "6",
                  "2",
                  "1",
                  "6",
                  "2",
                  "1",
                  "1",
                  "2",
                  "5",
                  "0",
                  "0",
                  "0",
                  "0",
                  "0",
                  "0",
                  "3",
                  "11",
                  "0"
                ],
                [
                  "2",
                  "4141",
                  "1965",
                  "Graduation",
                  "Together",
                  "71613.0",
                  "0",
                  "0",
                  "21-08-2013",
                  "26",
                  "426",
                  "49",
                  "127",
                  "111",
                  "21",
                  "42",
                  "1",
                  "8",
                  "2",
                  "10",
                  "4",
                  "0",
                  "0",
                  "0",
                  "0",
                  "0",
                  "0",
                  "3",
                  "11",
                  "0"
                ],
                [
                  "3",
                  "6182",
                  "1984",
                  "Graduation",
                  "Together",
                  "26646.0",
                  "1",
                  "0",
                  "10-02-2014",
                  "26",
                  "11",
                  "4",
                  "20",
                  "10",
                  "3",
                  "5",
                  "2",
                  "2",
                  "0",
                  "4",
                  "6",
                  "0",
                  "0",
                  "0",
                  "0",
                  "0",
                  "0",
                  "3",
                  "11",
                  "0"
                ],
                [
                  "4",
                  "5324",
                  "1981",
                  "PhD",
                  "Married",
                  "58293.0",
                  "1",
                  "0",
                  "19-01-2014",
                  "94",
                  "173",
                  "43",
                  "118",
                  "46",
                  "27",
                  "15",
                  "5",
                  "5",
                  "3",
                  "6",
                  "5",
                  "0",
                  "0",
                  "0",
                  "0",
                  "0",
                  "0",
                  "3",
                  "11",
                  "0"
                ]
              ],
              "shape": {
                "columns": 29,
                "rows": 5
              }
            },
            "text/html": [
              "<div>\n",
              "<style scoped>\n",
              "    .dataframe tbody tr th:only-of-type {\n",
              "        vertical-align: middle;\n",
              "    }\n",
              "\n",
              "    .dataframe tbody tr th {\n",
              "        vertical-align: top;\n",
              "    }\n",
              "\n",
              "    .dataframe thead th {\n",
              "        text-align: right;\n",
              "    }\n",
              "</style>\n",
              "<table border=\"1\" class=\"dataframe\">\n",
              "  <thead>\n",
              "    <tr style=\"text-align: right;\">\n",
              "      <th></th>\n",
              "      <th>ID</th>\n",
              "      <th>Year_Birth</th>\n",
              "      <th>Education</th>\n",
              "      <th>Marital_Status</th>\n",
              "      <th>Income</th>\n",
              "      <th>Kidhome</th>\n",
              "      <th>Teenhome</th>\n",
              "      <th>Dt_Customer</th>\n",
              "      <th>Recency</th>\n",
              "      <th>MntWines</th>\n",
              "      <th>...</th>\n",
              "      <th>NumWebVisitsMonth</th>\n",
              "      <th>AcceptedCmp3</th>\n",
              "      <th>AcceptedCmp4</th>\n",
              "      <th>AcceptedCmp5</th>\n",
              "      <th>AcceptedCmp1</th>\n",
              "      <th>AcceptedCmp2</th>\n",
              "      <th>Complain</th>\n",
              "      <th>Z_CostContact</th>\n",
              "      <th>Z_Revenue</th>\n",
              "      <th>Response</th>\n",
              "    </tr>\n",
              "  </thead>\n",
              "  <tbody>\n",
              "    <tr>\n",
              "      <th>0</th>\n",
              "      <td>5524</td>\n",
              "      <td>1957</td>\n",
              "      <td>Graduation</td>\n",
              "      <td>Single</td>\n",
              "      <td>58138.0</td>\n",
              "      <td>0</td>\n",
              "      <td>0</td>\n",
              "      <td>04-09-2012</td>\n",
              "      <td>58</td>\n",
              "      <td>635</td>\n",
              "      <td>...</td>\n",
              "      <td>7</td>\n",
              "      <td>0</td>\n",
              "      <td>0</td>\n",
              "      <td>0</td>\n",
              "      <td>0</td>\n",
              "      <td>0</td>\n",
              "      <td>0</td>\n",
              "      <td>3</td>\n",
              "      <td>11</td>\n",
              "      <td>1</td>\n",
              "    </tr>\n",
              "    <tr>\n",
              "      <th>1</th>\n",
              "      <td>2174</td>\n",
              "      <td>1954</td>\n",
              "      <td>Graduation</td>\n",
              "      <td>Single</td>\n",
              "      <td>46344.0</td>\n",
              "      <td>1</td>\n",
              "      <td>1</td>\n",
              "      <td>08-03-2014</td>\n",
              "      <td>38</td>\n",
              "      <td>11</td>\n",
              "      <td>...</td>\n",
              "      <td>5</td>\n",
              "      <td>0</td>\n",
              "      <td>0</td>\n",
              "      <td>0</td>\n",
              "      <td>0</td>\n",
              "      <td>0</td>\n",
              "      <td>0</td>\n",
              "      <td>3</td>\n",
              "      <td>11</td>\n",
              "      <td>0</td>\n",
              "    </tr>\n",
              "    <tr>\n",
              "      <th>2</th>\n",
              "      <td>4141</td>\n",
              "      <td>1965</td>\n",
              "      <td>Graduation</td>\n",
              "      <td>Together</td>\n",
              "      <td>71613.0</td>\n",
              "      <td>0</td>\n",
              "      <td>0</td>\n",
              "      <td>21-08-2013</td>\n",
              "      <td>26</td>\n",
              "      <td>426</td>\n",
              "      <td>...</td>\n",
              "      <td>4</td>\n",
              "      <td>0</td>\n",
              "      <td>0</td>\n",
              "      <td>0</td>\n",
              "      <td>0</td>\n",
              "      <td>0</td>\n",
              "      <td>0</td>\n",
              "      <td>3</td>\n",
              "      <td>11</td>\n",
              "      <td>0</td>\n",
              "    </tr>\n",
              "    <tr>\n",
              "      <th>3</th>\n",
              "      <td>6182</td>\n",
              "      <td>1984</td>\n",
              "      <td>Graduation</td>\n",
              "      <td>Together</td>\n",
              "      <td>26646.0</td>\n",
              "      <td>1</td>\n",
              "      <td>0</td>\n",
              "      <td>10-02-2014</td>\n",
              "      <td>26</td>\n",
              "      <td>11</td>\n",
              "      <td>...</td>\n",
              "      <td>6</td>\n",
              "      <td>0</td>\n",
              "      <td>0</td>\n",
              "      <td>0</td>\n",
              "      <td>0</td>\n",
              "      <td>0</td>\n",
              "      <td>0</td>\n",
              "      <td>3</td>\n",
              "      <td>11</td>\n",
              "      <td>0</td>\n",
              "    </tr>\n",
              "    <tr>\n",
              "      <th>4</th>\n",
              "      <td>5324</td>\n",
              "      <td>1981</td>\n",
              "      <td>PhD</td>\n",
              "      <td>Married</td>\n",
              "      <td>58293.0</td>\n",
              "      <td>1</td>\n",
              "      <td>0</td>\n",
              "      <td>19-01-2014</td>\n",
              "      <td>94</td>\n",
              "      <td>173</td>\n",
              "      <td>...</td>\n",
              "      <td>5</td>\n",
              "      <td>0</td>\n",
              "      <td>0</td>\n",
              "      <td>0</td>\n",
              "      <td>0</td>\n",
              "      <td>0</td>\n",
              "      <td>0</td>\n",
              "      <td>3</td>\n",
              "      <td>11</td>\n",
              "      <td>0</td>\n",
              "    </tr>\n",
              "  </tbody>\n",
              "</table>\n",
              "<p>5 rows × 29 columns</p>\n",
              "</div>"
            ],
            "text/plain": [
              "     ID  Year_Birth   Education Marital_Status   Income  Kidhome  Teenhome  \\\n",
              "0  5524        1957  Graduation         Single  58138.0        0         0   \n",
              "1  2174        1954  Graduation         Single  46344.0        1         1   \n",
              "2  4141        1965  Graduation       Together  71613.0        0         0   \n",
              "3  6182        1984  Graduation       Together  26646.0        1         0   \n",
              "4  5324        1981         PhD        Married  58293.0        1         0   \n",
              "\n",
              "  Dt_Customer  Recency  MntWines  ...  NumWebVisitsMonth  AcceptedCmp3  \\\n",
              "0  04-09-2012       58       635  ...                  7             0   \n",
              "1  08-03-2014       38        11  ...                  5             0   \n",
              "2  21-08-2013       26       426  ...                  4             0   \n",
              "3  10-02-2014       26        11  ...                  6             0   \n",
              "4  19-01-2014       94       173  ...                  5             0   \n",
              "\n",
              "   AcceptedCmp4  AcceptedCmp5  AcceptedCmp1  AcceptedCmp2  Complain  \\\n",
              "0             0             0             0             0         0   \n",
              "1             0             0             0             0         0   \n",
              "2             0             0             0             0         0   \n",
              "3             0             0             0             0         0   \n",
              "4             0             0             0             0         0   \n",
              "\n",
              "   Z_CostContact  Z_Revenue  Response  \n",
              "0              3         11         1  \n",
              "1              3         11         0  \n",
              "2              3         11         0  \n",
              "3              3         11         0  \n",
              "4              3         11         0  \n",
              "\n",
              "[5 rows x 29 columns]"
            ]
          },
          "metadata": {},
          "output_type": "display_data"
        }
      ],
      "source": [
        "# Download the dataset\n",
        "path = kagglehub.dataset_download(\"imakash3011/customer-personality-analysis\")\n",
        "\n",
        "# Load the dataset\n",
        "df = pd.read_csv(f\"{path}/marketing_campaign.csv\", sep=\"\\t\")\n",
        "\n",
        "# Data Exploration\n",
        "print(\"🔍 Initial Data Exploration:\\n\")\n",
        "\n",
        "# First records with display\n",
        "print(\"📊 First 5 Records:\")\n",
        "display(df.head())\n"
      ]
    },
    {
      "cell_type": "code",
      "execution_count": 3,
      "metadata": {
        "colab": {
          "base_uri": "https://localhost:8080/"
        },
        "id": "skLoLt7GWy-D",
        "outputId": "f34516d5-1845-4463-eb34-325b1c5ab1ba"
      },
      "outputs": [
        {
          "name": "stdout",
          "output_type": "stream",
          "text": [
            "Training set size: (1772, 12)\n",
            "Test set size: (444, 12)\n"
          ]
        }
      ],
      "source": [
        "# Selection of relevant variables\n",
        "variables = [\n",
        "    \"Income\", \"MntWines\", \"MntFruits\", \"MntMeatProducts\",\n",
        "    \"MntFishProducts\", \"MntSweetProducts\", \"MntGoldProds\",\n",
        "    \"NumDealsPurchases\", \"NumWebPurchases\", \"NumCatalogPurchases\",\n",
        "    \"NumStorePurchases\", \"NumWebVisitsMonth\"\n",
        "]\n",
        "\n",
        "target = \"Response\"\n",
        "\n",
        "# Initial cleaning: Removal of rows with missing values\n",
        "df = df.dropna(subset=variables + [target])\n",
        "\n",
        "# Split into features and labels\n",
        "X = df[variables]\n",
        "y = df[target]\n",
        "\n",
        "# Scaling the variables\n",
        "scaler = StandardScaler()\n",
        "X_scaled = scaler.fit_transform(X)\n",
        "\n",
        "# Split the dataset into training and testing\n",
        "X_train, X_test, y_train, y_test = train_test_split(\n",
        "    X_scaled, y, test_size=0.2, random_state=42, stratify=y\n",
        ")\n",
        "\n",
        "print(f\"Training set size: {X_train.shape}\")\n",
        "print(f\"Test set size: {X_test.shape}\")\n"
      ]
    },
    {
      "cell_type": "markdown",
      "metadata": {
        "id": "rRtL6criUdBv"
      },
      "source": [
        "\n",
        "### <font color='264CC7'> Model </font>\n"
      ]
    },
    {
      "cell_type": "markdown",
      "metadata": {
        "id": "RPWt1oMNUdBw"
      },
      "source": [
        "<div style=\"background-color: #edf1f8; border-color: #264CC7; border-left: 5px solid #264CC7; padding: 0.5em;\">\n",
        "\n",
        "<ul>\n",
        "  <li>Show the model's hyperparameters.</li>\n",
        "  <li>Explain the meaning of at least 4 hyperparameters.</li>\n",
        "  <li>Select the hyperparameters you want to optimize.</li>\n",
        "</ul>\n",
        "</div>\n"
      ]
    },
    {
      "cell_type": "code",
      "execution_count": 4,
      "metadata": {
        "colab": {
          "base_uri": "https://localhost:8080/"
        },
        "id": "OEX_Zx9jUdBw",
        "outputId": "21f5eb71-7629-4733-a6fa-207b9035e599"
      },
      "outputs": [
        {
          "name": "stdout",
          "output_type": "stream",
          "text": [
            "📊 Initial model metrics:\n",
            "Accuracy: 0.87\n",
            "\n",
            "Confusion Matrix:\n",
            "[[376   1]\n",
            " [ 57  10]]\n",
            "\n",
            "Classification Report:\n",
            "              precision    recall  f1-score   support\n",
            "\n",
            "           0       0.87      1.00      0.93       377\n",
            "           1       0.91      0.15      0.26        67\n",
            "\n",
            "    accuracy                           0.87       444\n",
            "   macro avg       0.89      0.57      0.59       444\n",
            "weighted avg       0.87      0.87      0.83       444\n",
            "\n"
          ]
        }
      ],
      "source": [
        "# Initial model with k=9\n",
        "knn_optimal = KNeighborsClassifier(n_neighbors=9)\n",
        "knn_optimal.fit(X_train, y_train)\n",
        "y_test_pred = knn_optimal.predict(X_test)\n",
        "\n",
        "# Show model metrics\n",
        "print(\"📊 Initial model metrics:\")\n",
        "print(f\"Accuracy: {accuracy_score(y_test, y_test_pred):.2f}\")\n",
        "print(\"\\nConfusion Matrix:\")\n",
        "print(confusion_matrix(y_test, y_test_pred))\n",
        "print(\"\\nClassification Report:\")\n",
        "print(classification_report(y_test, y_test_pred))"
      ]
    },
    {
      "cell_type": "markdown",
      "metadata": {
        "id": "SnSv63u_UdBw"
      },
      "source": [
        "### Hyperparameter Optimization with GridSearch\n",
        "\n",
        "#### Meaning of 4 k-NN Model Hyperparameters\n",
        "\n",
        "1. **`n_neighbors`**:\n",
        "   - Specifies the number of nearest neighbors the model will consider for classification or regression decisions.\n",
        "   - A low value makes the model more sensitive to noise, while a high value results in a more generalized model.\n",
        "\n",
        "2. **`weights`**:\n",
        "   - Determines how neighbors are weighted for the final decision.\n",
        "\n",
        "3. **`metric`**:\n",
        "   - Specifies the mathematical formula used to calculate the distance between points. Some common values include:\n",
        "\n",
        "4. **`p`**:\n",
        "   - A hyperparameter associated with the `'minkowski'` metric.\n",
        "\n",
        "---\n",
        "\n",
        "#### Selected Hyperparameters for Optimization\n",
        "\n",
        "To optimize the k-NN model, the following hyperparameters will be tested:\n",
        "\n",
        "1. **`n_neighbors`**:\n",
        "   - Values to try: `[5, 7, 9, 11, 13]`.\n",
        "\n",
        "2. **`weights`**:\n",
        "   - Weighting methods: `['uniform', 'distance']`.\n",
        "\n",
        "3. **`metric`**:\n",
        "   - Distance metrics: `['euclidean', 'manhattan', 'minkowski']`.\n",
        "\n",
        "4. **`p`**:\n",
        "   - Only applies when using `'minkowski'`.\n",
        "   - Values to try: `[1, 2]`.\n",
        "\n",
        "---\n"
      ]
    },
    {
      "cell_type": "markdown",
      "metadata": {
        "id": "u14Nrv6OUdBw"
      },
      "source": [
        "### <font color='264CC7'> Optimization by GridSearch </font>"
      ]
    },
    {
      "cell_type": "code",
      "execution_count": 5,
      "metadata": {
        "colab": {
          "base_uri": "https://localhost:8080/"
        },
        "id": "OTslSdEkUdBw",
        "outputId": "9c6f6bc7-57aa-4646-eace-7ead2dced823"
      },
      "outputs": [
        {
          "name": "stdout",
          "output_type": "stream",
          "text": [
            "Fitting 5 folds for each of 60 candidates, totalling 300 fits\n",
            "\n",
            "Best hyperparameters found:\n",
            "{'metric': 'manhattan', 'n_neighbors': 13, 'p': 1, 'weights': 'distance'}\n",
            "\n",
            "Best cross-validation accuracy: 0.86\n",
            "\n",
            "📊 Metrics of the optimized model on the test set:\n",
            "Accuracy: 0.87\n",
            "\n",
            "Classification Report:\n",
            "              precision    recall  f1-score   support\n",
            "\n",
            "           0       0.87      0.99      0.93       377\n",
            "           1       0.79      0.16      0.27        67\n",
            "\n",
            "    accuracy                           0.87       444\n",
            "   macro avg       0.83      0.58      0.60       444\n",
            "weighted avg       0.86      0.87      0.83       444\n",
            "\n"
          ]
        }
      ],
      "source": [
        "param_grid = {\n",
        "    \"n_neighbors\": [5, 7, 9, 11, 13],  # Values for the number of neighbors\n",
        "    \"weights\": [\"uniform\", \"distance\"],  # Weighting methods\n",
        "    \"metric\": [\"euclidean\", \"manhattan\", \"minkowski\"],  # Distances\n",
        "    \"p\": [1, 2]  # Parameter p for 'minkowski' (1: Manhattan, 2: Euclidean)\n",
        "}\n",
        "\n",
        "# Set up and run Grid Search with 5 cross-validations\n",
        "grid_search = GridSearchCV(\n",
        "    estimator=KNeighborsClassifier(),\n",
        "    param_grid=param_grid,\n",
        "    scoring=\"accuracy\",\n",
        "    cv=5,  # Number of cross-validations\n",
        "    verbose=1,\n",
        "    n_jobs=-1  # Use all available cores to speed up\n",
        ")\n",
        "\n",
        "grid_search.fit(X_train, y_train)\n",
        "\n",
        "# Show optimization results\n",
        "print(\"\\nBest hyperparameters found:\")\n",
        "print(grid_search.best_params_)\n",
        "\n",
        "print(f\"\\nBest cross-validation accuracy: {grid_search.best_score_:.2f}\")\n",
        "\n",
        "# Evaluate the optimized model on the test set\n",
        "best_model = grid_search.best_estimator_\n",
        "y_test_pred_optimized = best_model.predict(X_test)\n",
        "\n",
        "# Show metrics of the optimized model\n",
        "print(\"\\n📊 Metrics of the optimized model on the test set:\")\n",
        "print(f\"Accuracy: {accuracy_score(y_test, y_test_pred_optimized):.2f}\")\n",
        "print(\"\\nClassification Report:\")\n",
        "print(classification_report(y_test, y_test_pred_optimized))\n"
      ]
    },
    {
      "cell_type": "markdown",
      "metadata": {
        "id": "kxyFfSrmUdBw"
      },
      "source": [
        "### <font color='264CC7'> Optimization by RandomSearch </font>"
      ]
    },
    {
      "cell_type": "code",
      "execution_count": 6,
      "metadata": {
        "colab": {
          "base_uri": "https://localhost:8080/"
        },
        "id": "LhAGAKAIUdBx",
        "outputId": "d965e459-f40e-4cf1-d76b-a3251aafe304"
      },
      "outputs": [
        {
          "name": "stdout",
          "output_type": "stream",
          "text": [
            "Fitting 5 folds for each of 25 candidates, totalling 125 fits\n",
            "\n",
            "Best hyperparameters found:\n",
            "{'weights': 'distance', 'p': 4, 'n_neighbors': 15, 'metric': 'minkowski'}\n",
            "\n",
            "Best cross-validation accuracy: 0.86\n",
            "\n",
            "📊 Metrics of the optimized model on the test set:\n",
            "Accuracy: 0.87\n",
            "\n",
            "Classification Report:\n",
            "              precision    recall  f1-score   support\n",
            "\n",
            "           0       0.87      0.99      0.93       377\n",
            "           1       0.83      0.15      0.25        67\n",
            "\n",
            "    accuracy                           0.87       444\n",
            "   macro avg       0.85      0.57      0.59       444\n",
            "weighted avg       0.86      0.87      0.83       444\n",
            "\n"
          ]
        }
      ],
      "source": [
        "# Configuración de hiperparámetros para RandomizedSearchCV\n",
        "param_distributions = {\n",
        "    \"n_neighbors\": [3, 5, 7, 9, 11, 13, 15],  # Values for the number of neighbors\n",
        "    \"weights\": [\"uniform\", \"distance\"],  # Weighting methods\n",
        "    \"metric\": [\"euclidean\", \"manhattan\", \"minkowski\"],  # Distances\n",
        "    \"p\": [1, 2, 3, 4, 5]  # Parameter p for 'minkowski'\n",
        "}\n",
        "\n",
        "# Set up and run RandomizedSearchCV with 25 iterations and 5 cross-validations\n",
        "random_search = RandomizedSearchCV(\n",
        "    estimator=KNeighborsClassifier(),\n",
        "    param_distributions=param_distributions,\n",
        "    n_iter=25,  # Number of combinations to try\n",
        "    scoring=\"accuracy\",\n",
        "    cv=5,  # Number of cross-validations\n",
        "    verbose=1,\n",
        "    random_state=42,\n",
        "    n_jobs=-1  # Use all available cores to speed up\n",
        ")\n",
        "\n",
        "random_search.fit(X_train, y_train)\n",
        "\n",
        "# Show optimization results\n",
        "print(\"\\nBest hyperparameters found:\")\n",
        "print(random_search.best_params_)\n",
        "\n",
        "print(f\"\\nBest cross-validation accuracy: {random_search.best_score_:.2f}\")\n",
        "\n",
        "# Evaluate the optimized model on the test set\n",
        "best_model = random_search.best_estimator_\n",
        "y_test_pred_optimized = best_model.predict(X_test)\n",
        "\n",
        "# Show metrics of the optimized model\n",
        "print(\"\\n📊 Metrics of the optimized model on the test set:\")\n",
        "print(f\"Accuracy: {accuracy_score(y_test, y_test_pred_optimized):.2f}\")\n",
        "print(\"\\nClassification Report:\")\n",
        "print(classification_report(y_test, y_test_pred_optimized))"
      ]
    },
    {
      "cell_type": "markdown",
      "metadata": {
        "id": "ZF49PnyIUdBx"
      },
      "source": [
        "### <font color='264CC7'> Model Saving </font>"
      ]
    },
    {
      "cell_type": "code",
      "execution_count": 7,
      "metadata": {
        "colab": {
          "base_uri": "https://localhost:8080/"
        },
        "id": "5mzs3NfrUdBx",
        "outputId": "3905ecbc-1784-4e46-e206-ccb59cca1d5a"
      },
      "outputs": [
        {
          "name": "stdout",
          "output_type": "stream",
          "text": [
            "\n",
            "📊 Metrics of the simplest model on the test set:\n",
            "Accuracy: 0.87\n",
            "\n",
            "Classification Report:\n",
            "              precision    recall  f1-score   support\n",
            "\n",
            "           0       0.87      0.99      0.93       377\n",
            "           1       0.79      0.16      0.27        67\n",
            "\n",
            "    accuracy                           0.87       444\n",
            "   macro avg       0.83      0.58      0.60       444\n",
            "weighted avg       0.86      0.87      0.83       444\n",
            "\n"
          ]
        }
      ],
      "source": [
        "# Configuración del modelo más simple\n",
        "simple_model_params = {'metric': 'manhattan', 'n_neighbors': 13, 'p': 1, 'weights': 'distance'}\n",
        "\n",
        "# Create and train the model with the simplest parameters\n",
        "simple_knn_model = KNeighborsClassifier(\n",
        "    n_neighbors=simple_model_params['n_neighbors'],\n",
        "    weights=simple_model_params['weights'],\n",
        "    metric=simple_model_params['metric'],\n",
        "    p=simple_model_params['p']\n",
        ")\n",
        "\n",
        "# Training with the entire training set\n",
        "simple_knn_model.fit(X_train, y_train)\n",
        "\n",
        "# Evaluation on the test set\n",
        "y_test_pred_simple = simple_knn_model.predict(X_test)\n",
        "\n",
        "# Show model results\n",
        "print(\"\\n📊 Metrics of the simplest model on the test set:\")\n",
        "print(f\"Accuracy: {accuracy_score(y_test, y_test_pred_simple):.2f}\")\n",
        "print(\"\\nClassification Report:\")\n",
        "print(classification_report(y_test, y_test_pred_simple))"
      ]
    },
    {
      "cell_type": "code",
      "execution_count": 8,
      "metadata": {
        "colab": {
          "base_uri": "https://localhost:8080/"
        },
        "id": "HPHgdA_fUdBx",
        "outputId": "e4932c19-9cbc-4a28-a1d2-acab597660a8"
      },
      "outputs": [
        {
          "name": "stdout",
          "output_type": "stream",
          "text": [
            "\n",
            "Simplest model saved as 'Simple knn model.pkl'.\n"
          ]
        }
      ],
      "source": [
        "simple_model_filename = \"Simple knn model.pkl\"\n",
        "joblib.dump(simple_knn_model, simple_model_filename)\n",
        "print(f\"\\nSimplest model saved as '{simple_model_filename}'.\")"
      ]
    }
  ],
  "metadata": {
    "colab": {
      "provenance": []
    },
    "kernelspec": {
      "display_name": "Python 3",
      "language": "python",
      "name": "python3"
    },
    "language_info": {
      "codemirror_mode": {
        "name": "ipython",
        "version": 3
      },
      "file_extension": ".py",
      "mimetype": "text/x-python",
      "name": "python",
      "nbconvert_exporter": "python",
      "pygments_lexer": "ipython3",
      "version": "3.13.0"
    }
  },
  "nbformat": 4,
  "nbformat_minor": 0
}
